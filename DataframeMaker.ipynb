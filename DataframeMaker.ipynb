{
 "cells": [
  {
   "cell_type": "code",
   "execution_count": 1,
   "metadata": {},
   "outputs": [
    {
     "name": "stderr",
     "output_type": "stream",
     "text": [
      "Using TensorFlow backend.\n"
     ]
    }
   ],
   "source": [
    "import numpy as np\n",
    "import pandas as pd\n",
    "import keras as ks\n",
    "import spotipy\n",
    "from spotipy.oauth2 import SpotifyClientCredentials"
   ]
  },
  {
   "cell_type": "code",
   "execution_count": 2,
   "metadata": {},
   "outputs": [],
   "source": [
    "##Reference Code\n",
    "# louis = sp.search(q='Louis the Child', type='artist')\n",
    "# louis = louis['artists']['items'][0]\n",
    "# RL = sp.search(q='RL Grime', type='artist')\n",
    "# RL = RL['artists']['items'][0]\n",
    "# print(louis['genres'])\n",
    "# print(RL['genres'])\n",
    "\n",
    "# artist = sp.search(q='Louis the Child', limit=50, market='US', offset=0, type='track')\n",
    "\n",
    "# tracks = artist['tracks']\n",
    "# items = tracks['items']\n",
    "# ids = [item['id'] for item in items]\n",
    "# feats = sp.audio_features(ids)\n",
    "# print(type(feats[0]))\n",
    "# track = items[0]['uri']\n",
    "# analysis = sp.audio_analysis(track)\n",
    "# features = sp.audio_features(track)\n",
    "# print(type(analysis), type(features))\n",
    "# print(analysis.keys())\n",
    "# print(features)\n",
    "# for track in items:\n",
    "#   print(track['name'])"
   ]
  },
  {
   "cell_type": "markdown",
   "metadata": {},
   "source": [
    "# Using Spotify API Python wrapper to look at data analysis"
   ]
  },
  {
   "cell_type": "markdown",
   "metadata": {},
   "source": [
    "### Initialize spotipy object with client credentials"
   ]
  },
  {
   "cell_type": "code",
   "execution_count": 3,
   "metadata": {},
   "outputs": [],
   "source": [
    "tracks = pd.DataFrame()\n",
    "sp = spotipy.Spotify(client_credentials_manager=\\\n",
    "                     SpotifyClientCredentials(client_id='17e5b5704b914080a62aef78309e09a3', \\\n",
    "                                              client_secret='d9659e3b64a34faf85ae7eb71d064a51'))"
   ]
  },
  {
   "cell_type": "markdown",
   "metadata": {},
   "source": [
    "This section will try and pull as much EDM data I can from Spotify to load into our dataframe. "
   ]
  },
  {
   "cell_type": "code",
   "execution_count": 4,
   "metadata": {},
   "outputs": [],
   "source": [
    "def show_recommendations_for_artist(artist):\n",
    "    #returns a list of recommended artists based on a given artist\n",
    "    artists = []\n",
    "    results = sp.recommendations(seed_artists = [artist['id']])\n",
    "    for track in results['tracks']:\n",
    "        artists.append(track['artists'][0]['name'])\n",
    "    return artists"
   ]
  },
  {
   "cell_type": "markdown",
   "metadata": {},
   "source": [
    "In these next two cells I'm creating a sample list of DJs, then using Spotify's recommendation service to generate a much bigger list, as long as the artist is associated with the 'edm' genre."
   ]
  },
  {
   "cell_type": "code",
   "execution_count": 5,
   "metadata": {},
   "outputs": [],
   "source": [
    "djs = ['Calvin Harris', 'Diplo', 'Louis the Child', \\\n",
    "       'RL Grime', 'Alison Wonderland', 'Odesza', 'Avicii', \\\n",
    "       'Zedd', 'Tiesto', 'Martin Garrix', 'Skrillex', 'Steve Aoki', \\\n",
    "       'Marshmello', 'Porter Robinson', 'The Chainsmokers', 'Kygo', \\\n",
    "       'Major Lazer', 'DJ Snake']\n",
    "djset = set(djs)\n",
    "artists = []\n",
    "for dj in djs:\n",
    "        artists.append(sp.search(q=dj, type='artist')['artists']['items'][0])"
   ]
  },
  {
   "cell_type": "code",
   "execution_count": 8,
   "metadata": {},
   "outputs": [
    {
     "ename": "IndexError",
     "evalue": "list index out of range",
     "output_type": "error",
     "traceback": [
      "\u001b[0;31m---------------------------------------------------------------------------\u001b[0m",
      "\u001b[0;31mIndexError\u001b[0m                                Traceback (most recent call last)",
      "\u001b[0;32m<ipython-input-8-a5477d6adde6>\u001b[0m in \u001b[0;36m<module>\u001b[0;34m\u001b[0m\n\u001b[1;32m      2\u001b[0m         \u001b[0mrecs\u001b[0m \u001b[0;34m=\u001b[0m \u001b[0mshow_recommendations_for_artist\u001b[0m\u001b[0;34m(\u001b[0m\u001b[0ma\u001b[0m\u001b[0;34m)\u001b[0m\u001b[0;34m\u001b[0m\u001b[0m\n\u001b[1;32m      3\u001b[0m         \u001b[0;32mfor\u001b[0m \u001b[0mrec\u001b[0m \u001b[0;32min\u001b[0m \u001b[0mrecs\u001b[0m\u001b[0;34m:\u001b[0m\u001b[0;34m\u001b[0m\u001b[0m\n\u001b[0;32m----> 4\u001b[0;31m             \u001b[0;32mif\u001b[0m \u001b[0mrec\u001b[0m \u001b[0;32mnot\u001b[0m \u001b[0;32min\u001b[0m \u001b[0mdjset\u001b[0m \u001b[0;32mand\u001b[0m \u001b[0;34m'edm'\u001b[0m \u001b[0;32min\u001b[0m \u001b[0msp\u001b[0m\u001b[0;34m.\u001b[0m\u001b[0msearch\u001b[0m\u001b[0;34m(\u001b[0m\u001b[0mq\u001b[0m\u001b[0;34m=\u001b[0m\u001b[0mrec\u001b[0m\u001b[0;34m,\u001b[0m \u001b[0mtype\u001b[0m\u001b[0;34m=\u001b[0m\u001b[0;34m'artist'\u001b[0m\u001b[0;34m)\u001b[0m\u001b[0;34m[\u001b[0m\u001b[0;34m'artists'\u001b[0m\u001b[0;34m]\u001b[0m\u001b[0;34m[\u001b[0m\u001b[0;34m'items'\u001b[0m\u001b[0;34m]\u001b[0m\u001b[0;34m[\u001b[0m\u001b[0;36m0\u001b[0m\u001b[0;34m]\u001b[0m\u001b[0;34m[\u001b[0m\u001b[0;34m'genres'\u001b[0m\u001b[0;34m]\u001b[0m\u001b[0;34m:\u001b[0m\u001b[0;34m\u001b[0m\u001b[0m\n\u001b[0m\u001b[1;32m      5\u001b[0m                 \u001b[0mdjs\u001b[0m\u001b[0;34m.\u001b[0m\u001b[0mappend\u001b[0m\u001b[0;34m(\u001b[0m\u001b[0mrec\u001b[0m\u001b[0;34m)\u001b[0m\u001b[0;34m\u001b[0m\u001b[0m\n\u001b[1;32m      6\u001b[0m                 \u001b[0mdjset\u001b[0m\u001b[0;34m.\u001b[0m\u001b[0madd\u001b[0m\u001b[0;34m(\u001b[0m\u001b[0mrec\u001b[0m\u001b[0;34m)\u001b[0m\u001b[0;34m\u001b[0m\u001b[0m\n",
      "\u001b[0;31mIndexError\u001b[0m: list index out of range"
     ]
    }
   ],
   "source": [
    "for a in artists:\n",
    "        recs = show_recommendations_for_artist(a)\n",
    "        for rec in recs:\n",
    "            if rec not in djset and 'edm' in sp.search(q=rec, type='artist')['artists']['items'][0]['genres']:\n",
    "                djs.append(rec)\n",
    "                djset.add(rec)"
   ]
  },
  {
   "cell_type": "markdown",
   "metadata": {},
   "source": [
    "## Now we have a good list of DJs, let's get them into a dataframe"
   ]
  },
  {
   "cell_type": "markdown",
   "metadata": {},
   "source": [
    "Now, I use Spotify's API to generate a set of features for each song, and storing the feature representation of each song in a 2D list."
   ]
  },
  {
   "cell_type": "code",
   "execution_count": null,
   "metadata": {},
   "outputs": [],
   "source": [
    "data = []\n",
    "for dj in djs:\n",
    "    items = sp.search(q=dj, limit=50, offset=0, market='US', type='track')['tracks']['items']\n",
    "    ids = [item['id'] for item in items]\n",
    "    if ids:\n",
    "        ft = [np.array(list(item.values())[:11]) for item in sp.audio_features(ids) if item is not None]\n",
    "        data += ft"
   ]
  },
  {
   "cell_type": "markdown",
   "metadata": {},
   "source": [
    "Pandas conversion and saving results into a CSV for later use"
   ]
  },
  {
   "cell_type": "code",
   "execution_count": 2,
   "metadata": {},
   "outputs": [
    {
     "ename": "NameError",
     "evalue": "name 'np' is not defined",
     "output_type": "error",
     "traceback": [
      "\u001b[0;31m---------------------------------------------------------------------------\u001b[0m",
      "\u001b[0;31mNameError\u001b[0m                                 Traceback (most recent call last)",
      "\u001b[0;32m<ipython-input-2-41c59b57aa48>\u001b[0m in \u001b[0;36m<module>\u001b[0;34m\u001b[0m\n\u001b[0;32m----> 1\u001b[0;31m \u001b[0mnpdata\u001b[0m \u001b[0;34m=\u001b[0m \u001b[0mnp\u001b[0m\u001b[0;34m.\u001b[0m\u001b[0marray\u001b[0m\u001b[0;34m(\u001b[0m\u001b[0mdata\u001b[0m\u001b[0;34m)\u001b[0m\u001b[0;34m\u001b[0m\u001b[0m\n\u001b[0m\u001b[1;32m      2\u001b[0m \u001b[0mdf\u001b[0m \u001b[0;34m=\u001b[0m \u001b[0mpd\u001b[0m\u001b[0;34m.\u001b[0m\u001b[0mDataFrame\u001b[0m\u001b[0;34m(\u001b[0m\u001b[0mnpdata\u001b[0m\u001b[0;34m)\u001b[0m\u001b[0;34m\u001b[0m\u001b[0m\n\u001b[1;32m      3\u001b[0m \u001b[0mdf\u001b[0m\u001b[0;34m.\u001b[0m\u001b[0mto_csv\u001b[0m\u001b[0;34m(\u001b[0m\u001b[0;34m'data.csv'\u001b[0m\u001b[0;34m,\u001b[0m \u001b[0mindex\u001b[0m\u001b[0;34m=\u001b[0m\u001b[0;32mFalse\u001b[0m\u001b[0;34m)\u001b[0m\u001b[0;34m\u001b[0m\u001b[0m\n",
      "\u001b[0;31mNameError\u001b[0m: name 'np' is not defined"
     ]
    }
   ],
   "source": [
    "npdata = np.array(data)\n",
    "df = pd.DataFrame(npdata)\n",
    "df.to_csv('data.csv', index=False)"
   ]
  },
  {
   "cell_type": "markdown",
   "metadata": {},
   "source": [
    "# Now we need to get a good set of data that represents non-edm songs\n"
   ]
  },
  {
   "cell_type": "markdown",
   "metadata": {},
   "source": [
    "I'm going to use the exact same process from above, however this time I'll build a list based on artists that are NOT associated with 'edm'."
   ]
  },
  {
   "cell_type": "code",
   "execution_count": 158,
   "metadata": {},
   "outputs": [],
   "source": [
    "nondjs = ['Beyonce', 'The Shins', 'The Who', 'Zac Brown Band', \\\n",
    "           'George Harrison', 'Kendrick Lamar', 'Chance the Rapper', \\\n",
    "           'Miley Cyrus', 'Snoop Dogg', 'Dr. Dre', 'Eminem', 'Bob Marley', \\\n",
    "           'Duke Ellington', 'Miles Davis', 'The Beach Boys', 'The Growlers', 'Five Seconds of Summer']\n",
    "nondjset = set(nondjs)\n",
    "artists2 = []\n",
    "for nondj in nondjs:\n",
    "    artists2.append(sp.search(q=nondj, type='artist')['artists']['items'][0])"
   ]
  },
  {
   "cell_type": "code",
   "execution_count": 161,
   "metadata": {
    "collapsed": true
   },
   "outputs": [
    {
     "name": "stdout",
     "output_type": "stream",
     "text": [
      "oh well\n",
      "[{'external_urls': {'spotify': 'https://open.spotify.com/artist/6vWDO969PvNqNYHIOW5v0m'}, 'followers': {'href': None, 'total': 15799944}, 'genres': ['dance pop', 'pop', 'post-teen pop', 'r&b'], 'href': 'https://api.spotify.com/v1/artists/6vWDO969PvNqNYHIOW5v0m', 'id': '6vWDO969PvNqNYHIOW5v0m', 'images': [{'height': 1000, 'url': 'https://i.scdn.co/image/673cd94546df0536954198867516fee18cee1605', 'width': 1000}, {'height': 640, 'url': 'https://i.scdn.co/image/8ce3e8ae21481b60e3fb2604384b82175a949603', 'width': 640}, {'height': 200, 'url': 'https://i.scdn.co/image/ac2280a08e63bcb88f71bd3697fdc103b322ed9d', 'width': 200}, {'height': 64, 'url': 'https://i.scdn.co/image/4ad7f7740a04dee61cf4115cabbddad186def63d', 'width': 64}], 'name': 'Beyoncé', 'popularity': 87, 'type': 'artist', 'uri': 'spotify:artist:6vWDO969PvNqNYHIOW5v0m'}, {'external_urls': {'spotify': 'https://open.spotify.com/artist/4LG4Bs1Gadht7TCrMytQUO'}, 'followers': {'href': None, 'total': 764900}, 'genres': ['albuquerque indie', 'alternative rock', 'chamber pop', 'folk-pop', 'garage rock', 'indie folk', 'indie pop', 'indie rock', 'indietronica', 'modern rock', 'neo-psychedelic', 'pop rock', 'stomp and holler'], 'href': 'https://api.spotify.com/v1/artists/4LG4Bs1Gadht7TCrMytQUO', 'id': '4LG4Bs1Gadht7TCrMytQUO', 'images': [{'height': 640, 'url': 'https://i.scdn.co/image/e9e850f299d7715eb1b05e07d8af3bfc98b6f9c5', 'width': 640}, {'height': 320, 'url': 'https://i.scdn.co/image/3e473d3bf8bcbaf921082b554b0ceee47832b3cc', 'width': 320}, {'height': 160, 'url': 'https://i.scdn.co/image/37a10c2b4cc60a984f8453c45e2984fe5840e217', 'width': 160}], 'name': 'The Shins', 'popularity': 66, 'type': 'artist', 'uri': 'spotify:artist:4LG4Bs1Gadht7TCrMytQUO'}, {'external_urls': {'spotify': 'https://open.spotify.com/artist/67ea9eGLXYMsO2eYQRui3w'}, 'followers': {'href': None, 'total': 1959792}, 'genres': ['album rock', 'art rock', 'british invasion', 'classic rock', 'folk rock', 'hard rock', 'mellow gold', 'protopunk', 'psychedelic rock', 'rock', 'roots rock'], 'href': 'https://api.spotify.com/v1/artists/67ea9eGLXYMsO2eYQRui3w', 'id': '67ea9eGLXYMsO2eYQRui3w', 'images': [{'height': 1296, 'url': 'https://i.scdn.co/image/92a5ad894b73b9e63739eb36a0500e86b2588353', 'width': 1000}, {'height': 829, 'url': 'https://i.scdn.co/image/4bc7e5ba1e9ee7610cda425ff26b33210d8f3c95', 'width': 640}, {'height': 259, 'url': 'https://i.scdn.co/image/251c72ac95f3a43b538b7e7f4221d3e7b516f7db', 'width': 200}, {'height': 83, 'url': 'https://i.scdn.co/image/fbaf3aa7b7675e0d4787237d9a9c2009091c993d', 'width': 64}], 'name': 'The Who', 'popularity': 71, 'type': 'artist', 'uri': 'spotify:artist:67ea9eGLXYMsO2eYQRui3w'}, {'external_urls': {'spotify': 'https://open.spotify.com/artist/6yJCxee7QumYr820xdIsjo'}, 'followers': {'href': None, 'total': 1174699}, 'genres': ['contemporary country', 'country', 'country road', 'modern country rock'], 'href': 'https://api.spotify.com/v1/artists/6yJCxee7QumYr820xdIsjo', 'id': '6yJCxee7QumYr820xdIsjo', 'images': [{'height': 640, 'url': 'https://i.scdn.co/image/a6d6047716a8222f95dda01f46b8ac15658d246a', 'width': 640}, {'height': 320, 'url': 'https://i.scdn.co/image/da2bd8fc4e0f9058ff27fb680d591d8bdcf4a0ed', 'width': 320}, {'height': 160, 'url': 'https://i.scdn.co/image/530b17b46e8be5b056ad8f6860bfd4a8a8556c6b', 'width': 160}], 'name': 'Zac Brown Band', 'popularity': 75, 'type': 'artist', 'uri': 'spotify:artist:6yJCxee7QumYr820xdIsjo'}, {'external_urls': {'spotify': 'https://open.spotify.com/artist/7FIoB5PHdrMZVC3q2HE5MS'}, 'followers': {'href': None, 'total': 855439}, 'genres': ['album rock', 'classic rock', 'folk rock', 'mellow gold', 'psychedelic rock', 'rock', 'roots rock', 'soft rock'], 'href': 'https://api.spotify.com/v1/artists/7FIoB5PHdrMZVC3q2HE5MS', 'id': '7FIoB5PHdrMZVC3q2HE5MS', 'images': [{'height': 640, 'url': 'https://i.scdn.co/image/8d1b36f226245c6c6d5f9fa1d020f95a5e0d3253', 'width': 640}, {'height': 320, 'url': 'https://i.scdn.co/image/f00aa2a0bbeec665b9abe0d6b63399284e0ecf50', 'width': 320}, {'height': 160, 'url': 'https://i.scdn.co/image/a10910e67b10a62eec462f5c46cebe149a860e6a', 'width': 160}], 'name': 'George Harrison', 'popularity': 70, 'type': 'artist', 'uri': 'spotify:artist:7FIoB5PHdrMZVC3q2HE5MS'}, {'external_urls': {'spotify': 'https://open.spotify.com/artist/2YZyLoL8N0Wb9xBt1NhZWg'}, 'followers': {'href': None, 'total': 10829431}, 'genres': ['conscious hip hop', 'hip hop', 'pop rap', 'rap', 'west coast rap'], 'href': 'https://api.spotify.com/v1/artists/2YZyLoL8N0Wb9xBt1NhZWg', 'id': '2YZyLoL8N0Wb9xBt1NhZWg', 'images': [{'height': 640, 'url': 'https://i.scdn.co/image/3a836196bfb341f736c7fe2704fb75de53f8dfbb', 'width': 640}, {'height': 320, 'url': 'https://i.scdn.co/image/5259c0496329b3f608a1ae0edb799cd2f8451acc', 'width': 320}, {'height': 160, 'url': 'https://i.scdn.co/image/b772a78d4cb192268d6f601a78f21044c17d6dda', 'width': 160}], 'name': 'Kendrick Lamar', 'popularity': 91, 'type': 'artist', 'uri': 'spotify:artist:2YZyLoL8N0Wb9xBt1NhZWg'}, {'external_urls': {'spotify': 'https://open.spotify.com/artist/1anyVhU62p31KFi8MEzkbf'}, 'followers': {'href': None, 'total': 3563522}, 'genres': ['conscious hip hop', 'hip hop', 'pop', 'pop rap', 'rap'], 'href': 'https://api.spotify.com/v1/artists/1anyVhU62p31KFi8MEzkbf', 'id': '1anyVhU62p31KFi8MEzkbf', 'images': [{'height': 640, 'url': 'https://i.scdn.co/image/f5aceffb43876273fa72b7c3c002d7e3218075fd', 'width': 640}, {'height': 320, 'url': 'https://i.scdn.co/image/5e4a5edf6132eb41bc71dd04cc9c92f30e256171', 'width': 320}, {'height': 160, 'url': 'https://i.scdn.co/image/ff31d16413f7b9d6385947f81532f54c83128592', 'width': 160}], 'name': 'Chance the Rapper', 'popularity': 87, 'type': 'artist', 'uri': 'spotify:artist:1anyVhU62p31KFi8MEzkbf'}, {'external_urls': {'spotify': 'https://open.spotify.com/artist/5YGY8feqx7naU7z4HrwZM6'}, 'followers': {'href': None, 'total': 6839686}, 'genres': ['dance pop', 'pop', 'post-teen pop'], 'href': 'https://api.spotify.com/v1/artists/5YGY8feqx7naU7z4HrwZM6', 'id': '5YGY8feqx7naU7z4HrwZM6', 'images': [{'height': 640, 'url': 'https://i.scdn.co/image/ae71f02aececa87c716a4e0abe39f703c9054d59', 'width': 640}, {'height': 320, 'url': 'https://i.scdn.co/image/6d741e9188b6f43bfb4f82010c375fa1a6df1916', 'width': 320}, {'height': 160, 'url': 'https://i.scdn.co/image/d594a099ac6729b8ab379b6bd8cf071c189718dd', 'width': 160}], 'name': 'Miley Cyrus', 'popularity': 80, 'type': 'artist', 'uri': 'spotify:artist:5YGY8feqx7naU7z4HrwZM6'}, {'external_urls': {'spotify': 'https://open.spotify.com/artist/7hJcb9fa4alzcOq3EaNPoG'}, 'followers': {'href': None, 'total': 3785602}, 'genres': ['g funk', 'gangster rap', 'hip hop', 'pop rap', 'rap', 'west coast rap'], 'href': 'https://api.spotify.com/v1/artists/7hJcb9fa4alzcOq3EaNPoG', 'id': '7hJcb9fa4alzcOq3EaNPoG', 'images': [{'height': 602, 'url': 'https://i.scdn.co/image/b6110a0ff25000578e4bd1bbd72ad6efaa5d6b4e', 'width': 587}, {'height': 205, 'url': 'https://i.scdn.co/image/bd61c60351016c75d2b4184808546181125149dc', 'width': 200}, {'height': 66, 'url': 'https://i.scdn.co/image/ed65357f3461e6d3a9283436c5e6992085c6ee94', 'width': 64}], 'name': 'Snoop Dogg', 'popularity': 85, 'type': 'artist', 'uri': 'spotify:artist:7hJcb9fa4alzcOq3EaNPoG'}, {'external_urls': {'spotify': 'https://open.spotify.com/artist/6DPYiyq5kWVQS4RGwxzPC7'}, 'followers': {'href': None, 'total': 3727411}, 'genres': ['g funk', 'gangster rap', 'hip hop', 'rap', 'west coast rap'], 'href': 'https://api.spotify.com/v1/artists/6DPYiyq5kWVQS4RGwxzPC7', 'id': '6DPYiyq5kWVQS4RGwxzPC7', 'images': [{'height': 1005, 'url': 'https://i.scdn.co/image/83d2489cade1dadcdc533ddbcd74993d0ca6d4cb', 'width': 1000}, {'height': 643, 'url': 'https://i.scdn.co/image/170254ebdd747f4e7045df1cae8f11a42dc1a547', 'width': 640}, {'height': 201, 'url': 'https://i.scdn.co/image/dd4a7102c5e1897bab2b1fa4bbc086fbe2fc87dc', 'width': 200}, {'height': 64, 'url': 'https://i.scdn.co/image/85ebf2f6c52139b3384b596063678b47ab0fcb95', 'width': 64}], 'name': 'Dr. Dre', 'popularity': 81, 'type': 'artist', 'uri': 'spotify:artist:6DPYiyq5kWVQS4RGwxzPC7'}, {'external_urls': {'spotify': 'https://open.spotify.com/artist/7dGJo4pcD2V6oG8kP0tJRR'}, 'followers': {'href': None, 'total': 20593763}, 'genres': ['detroit hip hop', 'g funk', 'hip hop', 'rap'], 'href': 'https://api.spotify.com/v1/artists/7dGJo4pcD2V6oG8kP0tJRR', 'id': '7dGJo4pcD2V6oG8kP0tJRR', 'images': [{'height': 640, 'url': 'https://i.scdn.co/image/60c4daa4721f666c6afaee82a39bd413979a0474', 'width': 640}, {'height': 320, 'url': 'https://i.scdn.co/image/ae8dd3b01ada324eeb8c0b341e8f7ebda406095e', 'width': 320}, {'height': 160, 'url': 'https://i.scdn.co/image/ed213a32e1327f3f2d7b2539eb1db57f55b68dbb', 'width': 160}], 'name': 'Eminem', 'popularity': 98, 'type': 'artist', 'uri': 'spotify:artist:7dGJo4pcD2V6oG8kP0tJRR'}, {'external_urls': {'spotify': 'https://open.spotify.com/artist/2QsynagSdAqZj3U9HgDzjD'}, 'followers': {'href': None, 'total': 5692970}, 'genres': ['reggae', 'roots reggae'], 'href': 'https://api.spotify.com/v1/artists/2QsynagSdAqZj3U9HgDzjD', 'id': '2QsynagSdAqZj3U9HgDzjD', 'images': [{'height': 858, 'url': 'https://i.scdn.co/image/b5aae2067db80f694a980e596e7f49618c1206c9', 'width': 1000}, {'height': 549, 'url': 'https://i.scdn.co/image/4cd57e5e12ea2c24644c40886d65a9b22eca9802', 'width': 640}, {'height': 172, 'url': 'https://i.scdn.co/image/02fd758d9805ef44d1caafc35ff17a47f9dff098', 'width': 200}, {'height': 55, 'url': 'https://i.scdn.co/image/357fe6ef3655b1b33855e33546e3c174a38a1a36', 'width': 64}], 'name': 'Bob Marley & The Wailers', 'popularity': 81, 'type': 'artist', 'uri': 'spotify:artist:2QsynagSdAqZj3U9HgDzjD'}, {'external_urls': {'spotify': 'https://open.spotify.com/artist/4F7Q5NV6h5TSwCainz8S5A'}, 'followers': {'href': None, 'total': 440417}, 'genres': ['adult standards', 'bebop', 'big band', 'christmas', 'cool jazz', 'jazz', 'jazz piano', 'swing', 'vocal jazz'], 'href': 'https://api.spotify.com/v1/artists/4F7Q5NV6h5TSwCainz8S5A', 'id': '4F7Q5NV6h5TSwCainz8S5A', 'images': [{'height': 1154, 'url': 'https://i.scdn.co/image/1e24691a352233bbe989a311d921f17e7892a87e', 'width': 1000}, {'height': 739, 'url': 'https://i.scdn.co/image/c169af91bf56ac7d3962000f6ab237e1586d9732', 'width': 640}, {'height': 231, 'url': 'https://i.scdn.co/image/b6a297e56436a75ffcab7f594dafc46c9872f793', 'width': 200}, {'height': 74, 'url': 'https://i.scdn.co/image/2ac71fb8c2ff235d2484d40d274473767eaf07b5', 'width': 64}], 'name': 'Duke Ellington', 'popularity': 63, 'type': 'artist', 'uri': 'spotify:artist:4F7Q5NV6h5TSwCainz8S5A'}, {'external_urls': {'spotify': 'https://open.spotify.com/artist/0kbYTNQb4Pb1rPbbaF0pT4'}, 'followers': {'href': None, 'total': 1397978}, 'genres': ['bebop', 'contemporary post-bop', 'cool jazz', 'hard bop', 'jazz', 'jazz fusion', 'jazz trumpet', 'vocal jazz'], 'href': 'https://api.spotify.com/v1/artists/0kbYTNQb4Pb1rPbbaF0pT4', 'id': '0kbYTNQb4Pb1rPbbaF0pT4', 'images': [{'height': 1496, 'url': 'https://i.scdn.co/image/e6b1cc182b3e397d2aee084959a7e62a0c27f6bd', 'width': 1000}, {'height': 958, 'url': 'https://i.scdn.co/image/54a57d5cd1f917a9e475ef67a54b0c03488821b4', 'width': 640}, {'height': 299, 'url': 'https://i.scdn.co/image/a6187e7a9251616677bd7271483c4ccd33ece70e', 'width': 200}, {'height': 96, 'url': 'https://i.scdn.co/image/ea5d00ec47307152c32178e3785503a1200b32e2', 'width': 64}], 'name': 'Miles Davis', 'popularity': 66, 'type': 'artist', 'uri': 'spotify:artist:0kbYTNQb4Pb1rPbbaF0pT4'}, {'external_urls': {'spotify': 'https://open.spotify.com/artist/3oDbviiivRWhXwIE8hxkVV'}, 'followers': {'href': None, 'total': 1552452}, 'genres': ['brill building pop', 'folk rock', 'psychedelic rock', 'rock'], 'href': 'https://api.spotify.com/v1/artists/3oDbviiivRWhXwIE8hxkVV', 'id': '3oDbviiivRWhXwIE8hxkVV', 'images': [{'height': 640, 'url': 'https://i.scdn.co/image/21d36613eec63c86c1babec16fdfa8635ee63625', 'width': 640}, {'height': 320, 'url': 'https://i.scdn.co/image/18c4138cf751a338e732902f714a81a5cad52edf', 'width': 320}, {'height': 160, 'url': 'https://i.scdn.co/image/4978bd9b1e38b8e5dca74abb730cb95f72c6b20e', 'width': 160}], 'name': 'The Beach Boys', 'popularity': 73, 'type': 'artist', 'uri': 'spotify:artist:3oDbviiivRWhXwIE8hxkVV'}, {'external_urls': {'spotify': 'https://open.spotify.com/artist/2RhgnQNC74QoBlaUvT4MEe'}, 'followers': {'href': None, 'total': 254885}, 'genres': ['garage rock', 'indie garage rock', 'indie rock', 'modern rock', 'neo-psychedelic'], 'href': 'https://api.spotify.com/v1/artists/2RhgnQNC74QoBlaUvT4MEe', 'id': '2RhgnQNC74QoBlaUvT4MEe', 'images': [{'height': 640, 'url': 'https://i.scdn.co/image/047562100b64a128e9b49e191d7dc9642358ead2', 'width': 640}, {'height': 320, 'url': 'https://i.scdn.co/image/c9cd894acda9820a5a517a01f3bf9d097025424f', 'width': 320}, {'height': 160, 'url': 'https://i.scdn.co/image/d598117e2f46009cde02c69c283e87ea25841be6', 'width': 160}], 'name': 'The Growlers', 'popularity': 66, 'type': 'artist', 'uri': 'spotify:artist:2RhgnQNC74QoBlaUvT4MEe'}, {'external_urls': {'spotify': 'https://open.spotify.com/artist/5Rl15oVamLq7FbSb0NNBNy'}, 'followers': {'href': None, 'total': 3540892}, 'genres': ['boy band', 'dance pop', 'pop', 'post-teen pop'], 'href': 'https://api.spotify.com/v1/artists/5Rl15oVamLq7FbSb0NNBNy', 'id': '5Rl15oVamLq7FbSb0NNBNy', 'images': [{'height': 640, 'url': 'https://i.scdn.co/image/f60b24c9bbe05579f8a9f1210c9805d1ed2a65dc', 'width': 640}, {'height': 320, 'url': 'https://i.scdn.co/image/cd5ad9c5d092a390735cf7d017650c69afddb820', 'width': 320}, {'height': 160, 'url': 'https://i.scdn.co/image/cb92f6456f96f4bc352718006aac054e7d35ea60', 'width': 160}], 'name': '5 Seconds of Summer', 'popularity': 85, 'type': 'artist', 'uri': 'spotify:artist:5Rl15oVamLq7FbSb0NNBNy'}]\n"
     ]
    }
   ],
   "source": [
    "for a in artists2:\n",
    "        recs = show_recommendations_for_artist(a)\n",
    "        for rec in recs:\n",
    "            try:\n",
    "                if rec not in nondjset and 'edm' not in sp.search(q=rec, type='artist')['artists']['items'][0]['genres']:\n",
    "                    nondjs.append(rec)\n",
    "                    nondjset.add(rec)\n",
    "            except:\n",
    "                print('oh well')"
   ]
  },
  {
   "cell_type": "code",
   "execution_count": 165,
   "metadata": {},
   "outputs": [],
   "source": [
    "data2 = []\n",
    "for nondj in nondjs:\n",
    "    items = sp.search(q=nondj, limit=50, offset=0, market='US', type='track')['tracks']['items']\n",
    "    ids = [item['id'] for item in items]\n",
    "    if ids:\n",
    "        ft = [np.array(list(item.values())[:11]) for item in sp.audio_features(ids) if item is not None]\n",
    "        data2 += ft"
   ]
  },
  {
   "cell_type": "code",
   "execution_count": 173,
   "metadata": {},
   "outputs": [],
   "source": [
    "npdata2 = np.array(data2)\n",
    "df2 = pd.DataFrame(npdata2)\n",
    "df2.to_csv('data2.csv', index=False)"
   ]
  },
  {
   "cell_type": "markdown",
   "metadata": {},
   "source": [
    "Now we have a CSV file written for both EDM and Non-EDM sample sets. In the file 'Model.ipynb' I process these datasets and use them to classify songs."
   ]
  }
 ],
 "metadata": {
  "kernelspec": {
   "display_name": "Python 3",
   "language": "python",
   "name": "python3"
  },
  "language_info": {
   "codemirror_mode": {
    "name": "ipython",
    "version": 3
   },
   "file_extension": ".py",
   "mimetype": "text/x-python",
   "name": "python",
   "nbconvert_exporter": "python",
   "pygments_lexer": "ipython3",
   "version": "3.6.6"
  }
 },
 "nbformat": 4,
 "nbformat_minor": 2
}
