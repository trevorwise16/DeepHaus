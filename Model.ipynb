{
 "cells": [
  {
   "cell_type": "code",
   "execution_count": 10,
   "metadata": {},
   "outputs": [],
   "source": [
    "import numpy as np\n",
    "import sklearn as sk\n",
    "import pandas as pd\n",
    "import matplotlib.pyplot as plt\n",
    "import keras as ks\n",
    "import spotipy\n",
    "\n",
    "from keras.models import Sequential\n",
    "from keras.layers import Dense, Dropout\n",
    "from keras import optimizers\n",
    "\n",
    "from sklearn import preprocessing\n",
    "from sklearn import model_selection"
   ]
  },
  {
   "cell_type": "markdown",
   "metadata": {},
   "source": [
    "# Spotify EDM Classifier"
   ]
  },
  {
   "cell_type": "markdown",
   "metadata": {},
   "source": [
    "The goal of this project is to play around with Spotify's Web API and see what learning we can achieve using their audio features they publish for each track. I'll be using Keras to create a deep learning model capable of distinguishing songs as either EDM or not, and then hopefully expanding this to inferring multilclass genres. "
   ]
  },
  {
   "cell_type": "markdown",
   "metadata": {},
   "source": [
    "In the file DataframeMaker, I leveraged Spotipy to pull around 20k songs from Spotify and split them into groups of EDM or non-EDM. Check out that file to understand where the CSV files in the repo came from. \n"
   ]
  },
  {
   "cell_type": "code",
   "execution_count": 3,
   "metadata": {},
   "outputs": [],
   "source": [
    "df = pd.read_csv('data.csv')\n",
    "df2 = pd.read_csv('data2.csv')\n",
    "\n",
    "#Using one-hot encoding here\n",
    "labels = ks.utils.np_utils.to_categorical([1 for _ in range(df.shape[0])] + [0 for _ in range(df2.shape[0])])\n",
    "\n",
    "df3 = df.append(df2)\n",
    "data3 = df3.values\n",
    "\n",
    "#Dropping index column in Dataframe - can be solved when creating it \n",
    "#in the first place setting index parameter to false.\n",
    "data3 = np.delete(data3, 0, axis=1)"
   ]
  },
  {
   "cell_type": "markdown",
   "metadata": {},
   "source": [
    "Here we'll process our data before we train a model - we have to normalize and split into test and train sets"
   ]
  },
  {
   "cell_type": "code",
   "execution_count": 4,
   "metadata": {},
   "outputs": [],
   "source": [
    "xTrain, xTest, yTrain, yTest = sk.model_selection.train_test_split(data3, labels, test_size=.25)"
   ]
  },
  {
   "cell_type": "code",
   "execution_count": 5,
   "metadata": {},
   "outputs": [],
   "source": [
    "#Scaling our data to follow a standard normal distribution, i.e. mean = 0 and STD = 1\n",
    "scaler = preprocessing.StandardScaler().fit(xTrain)\n",
    "trainScaled = scaler.transform(xTrain)\n",
    "testScaled = scaler.transform(xTest)"
   ]
  },
  {
   "cell_type": "markdown",
   "metadata": {},
   "source": [
    "# MODEL TIME WOOOOO"
   ]
  },
  {
   "cell_type": "markdown",
   "metadata": {},
   "source": [
    "We have a lot of data which is great, so we can use a neural net to classify this data somewhat safely. I'm going to use a \"simple\", fully-connected feed forward network with binary output to work with out one hot encoding. "
   ]
  },
  {
   "cell_type": "code",
   "execution_count": 78,
   "metadata": {},
   "outputs": [],
   "source": [
    "model = Sequential()\n",
    "model.add(Dense(16, input_dim=11, activation='relu'))\n",
    "model.add(Dense(8, activation='relu'))\n",
    "model.add(Dense(2, activation='relu'))\n",
    "\n",
    "model.compile(optimizer='rmsprop',\n",
    "              loss='binary_crossentropy',\n",
    "              metrics=['accuracy'])"
   ]
  },
  {
   "cell_type": "code",
   "execution_count": 79,
   "metadata": {},
   "outputs": [
    {
     "name": "stdout",
     "output_type": "stream",
     "text": [
      "Train on 13734 samples, validate on 1527 samples\n",
      "Epoch 1/100\n",
      "13734/13734 [==============================] - 1s 91us/step - loss: 1.6523 - acc: 0.5838 - val_loss: 1.1386 - val_acc: 0.6549\n",
      "Epoch 2/100\n",
      "13734/13734 [==============================] - 0s 29us/step - loss: 0.9283 - acc: 0.6802 - val_loss: 0.9130 - val_acc: 0.7020\n",
      "Epoch 3/100\n",
      "13734/13734 [==============================] - 0s 26us/step - loss: 0.7567 - acc: 0.7116 - val_loss: 0.7524 - val_acc: 0.7063\n",
      "Epoch 4/100\n",
      "13734/13734 [==============================] - 0s 30us/step - loss: 0.6658 - acc: 0.7227 - val_loss: 0.6940 - val_acc: 0.7207\n",
      "Epoch 5/100\n",
      "13734/13734 [==============================] - 0s 30us/step - loss: 0.6418 - acc: 0.7306 - val_loss: 0.6654 - val_acc: 0.7240\n",
      "Epoch 6/100\n",
      "13734/13734 [==============================] - 0s 28us/step - loss: 0.6273 - acc: 0.7399 - val_loss: 0.6481 - val_acc: 0.7335\n",
      "Epoch 7/100\n",
      "13734/13734 [==============================] - 0s 29us/step - loss: 0.6166 - acc: 0.7451 - val_loss: 0.6184 - val_acc: 0.7380\n",
      "Epoch 8/100\n",
      "13734/13734 [==============================] - 0s 31us/step - loss: 0.6067 - acc: 0.7466 - val_loss: 0.6229 - val_acc: 0.7459\n",
      "Epoch 9/100\n",
      "13734/13734 [==============================] - 0s 30us/step - loss: 0.5972 - acc: 0.7519 - val_loss: 0.5897 - val_acc: 0.7587\n",
      "Epoch 10/100\n",
      "13734/13734 [==============================] - 0s 30us/step - loss: 0.5979 - acc: 0.7559 - val_loss: 0.5755 - val_acc: 0.7623\n",
      "Epoch 11/100\n",
      "13734/13734 [==============================] - 0s 28us/step - loss: 0.5825 - acc: 0.7600 - val_loss: 0.5571 - val_acc: 0.7711\n",
      "Epoch 12/100\n",
      "13734/13734 [==============================] - 0s 29us/step - loss: 0.5750 - acc: 0.7651 - val_loss: 0.6065 - val_acc: 0.7616\n",
      "Epoch 13/100\n",
      "13734/13734 [==============================] - 0s 30us/step - loss: 0.5746 - acc: 0.7642 - val_loss: 0.5694 - val_acc: 0.7708\n",
      "Epoch 14/100\n",
      "13734/13734 [==============================] - 0s 30us/step - loss: 0.5721 - acc: 0.7633 - val_loss: 0.5772 - val_acc: 0.7688\n",
      "Epoch 15/100\n",
      "13734/13734 [==============================] - 0s 29us/step - loss: 0.5662 - acc: 0.7647 - val_loss: 0.5876 - val_acc: 0.7646\n",
      "Epoch 16/100\n",
      "13734/13734 [==============================] - 0s 28us/step - loss: 0.5643 - acc: 0.7651 - val_loss: 0.5821 - val_acc: 0.7767\n",
      "Epoch 17/100\n",
      "13734/13734 [==============================] - 0s 29us/step - loss: 0.5661 - acc: 0.7670 - val_loss: 0.6042 - val_acc: 0.7718\n",
      "Epoch 18/100\n",
      "13734/13734 [==============================] - 0s 33us/step - loss: 0.5613 - acc: 0.7680 - val_loss: 0.5500 - val_acc: 0.7780\n",
      "Epoch 19/100\n",
      "13734/13734 [==============================] - 0s 31us/step - loss: 0.5569 - acc: 0.7693 - val_loss: 0.5669 - val_acc: 0.7796\n",
      "Epoch 20/100\n",
      "13734/13734 [==============================] - 0s 29us/step - loss: 0.5619 - acc: 0.7698 - val_loss: 0.6072 - val_acc: 0.7754\n",
      "Epoch 21/100\n",
      "13734/13734 [==============================] - 0s 30us/step - loss: 0.5691 - acc: 0.7670 - val_loss: 0.6161 - val_acc: 0.7711\n",
      "Epoch 22/100\n",
      "13734/13734 [==============================] - 0s 29us/step - loss: 0.5697 - acc: 0.7677 - val_loss: 0.6333 - val_acc: 0.7705\n",
      "Epoch 23/100\n",
      "13734/13734 [==============================] - 0s 32us/step - loss: 0.5671 - acc: 0.7705 - val_loss: 0.5889 - val_acc: 0.7826\n",
      "Epoch 24/100\n",
      "13734/13734 [==============================] - 0s 30us/step - loss: 0.5622 - acc: 0.7710 - val_loss: 0.6156 - val_acc: 0.7760\n",
      "Epoch 25/100\n",
      "13734/13734 [==============================] - 0s 31us/step - loss: 0.5565 - acc: 0.7733 - val_loss: 0.5955 - val_acc: 0.7724\n",
      "Epoch 26/100\n",
      "13734/13734 [==============================] - 0s 31us/step - loss: 0.5496 - acc: 0.7738 - val_loss: 0.5686 - val_acc: 0.7839\n",
      "Epoch 27/100\n",
      "13734/13734 [==============================] - 0s 30us/step - loss: 0.5445 - acc: 0.7756 - val_loss: 0.5975 - val_acc: 0.7836\n",
      "Epoch 28/100\n",
      "13734/13734 [==============================] - 0s 30us/step - loss: 0.5488 - acc: 0.7751 - val_loss: 0.5866 - val_acc: 0.7885\n",
      "Epoch 29/100\n",
      "13734/13734 [==============================] - 0s 30us/step - loss: 0.5381 - acc: 0.7772 - val_loss: 0.6121 - val_acc: 0.7816\n",
      "Epoch 30/100\n",
      "13734/13734 [==============================] - 0s 29us/step - loss: 0.5450 - acc: 0.7762 - val_loss: 0.5630 - val_acc: 0.7839\n",
      "Epoch 31/100\n",
      "13734/13734 [==============================] - 0s 33us/step - loss: 0.5479 - acc: 0.7741 - val_loss: 0.6248 - val_acc: 0.7803\n",
      "Epoch 32/100\n",
      "13734/13734 [==============================] - 0s 30us/step - loss: 0.5494 - acc: 0.7752 - val_loss: 0.5846 - val_acc: 0.7829\n",
      "Epoch 33/100\n",
      "13734/13734 [==============================] - 0s 30us/step - loss: 0.5383 - acc: 0.7765 - val_loss: 0.6182 - val_acc: 0.7829\n",
      "Epoch 34/100\n",
      "13734/13734 [==============================] - 0s 33us/step - loss: 0.5436 - acc: 0.7745 - val_loss: 0.5916 - val_acc: 0.7842\n",
      "Epoch 35/100\n",
      "13734/13734 [==============================] - 0s 34us/step - loss: 0.5467 - acc: 0.7763 - val_loss: 0.6130 - val_acc: 0.7829\n",
      "Epoch 36/100\n",
      "13734/13734 [==============================] - 0s 33us/step - loss: 0.5455 - acc: 0.7760 - val_loss: 0.6231 - val_acc: 0.7803\n",
      "Epoch 37/100\n",
      "13734/13734 [==============================] - 0s 31us/step - loss: 0.5486 - acc: 0.7756 - val_loss: 0.6008 - val_acc: 0.7790\n",
      "Epoch 38/100\n",
      "13734/13734 [==============================] - 0s 31us/step - loss: 0.5451 - acc: 0.7753 - val_loss: 0.6204 - val_acc: 0.7800\n",
      "Epoch 39/100\n",
      "13734/13734 [==============================] - 0s 29us/step - loss: 0.5461 - acc: 0.7769 - val_loss: 0.5581 - val_acc: 0.7806\n",
      "Epoch 40/100\n",
      "13734/13734 [==============================] - 0s 31us/step - loss: 0.5453 - acc: 0.7767 - val_loss: 0.5844 - val_acc: 0.7819\n",
      "Epoch 41/100\n",
      "13734/13734 [==============================] - 0s 35us/step - loss: 0.5487 - acc: 0.7772 - val_loss: 0.5860 - val_acc: 0.7793\n",
      "Epoch 42/100\n",
      "13734/13734 [==============================] - 0s 32us/step - loss: 0.5433 - acc: 0.7788 - val_loss: 0.5924 - val_acc: 0.7845\n",
      "Epoch 43/100\n",
      "13734/13734 [==============================] - 0s 30us/step - loss: 0.5376 - acc: 0.7774 - val_loss: 0.6305 - val_acc: 0.7800\n",
      "Epoch 44/100\n",
      "13734/13734 [==============================] - 0s 33us/step - loss: 0.5419 - acc: 0.7775 - val_loss: 0.6037 - val_acc: 0.7767\n",
      "Epoch 45/100\n",
      "13734/13734 [==============================] - 1s 37us/step - loss: 0.5457 - acc: 0.7750 - val_loss: 0.5983 - val_acc: 0.7796\n",
      "Epoch 46/100\n",
      "13734/13734 [==============================] - ETA: 0s - loss: 0.5465 - acc: 0.7758- ETA: 0s - loss: 0.5386 - acc: 0.7 - 0s 33us/step - loss: 0.5466 - acc: 0.7752 - val_loss: 0.6363 - val_acc: 0.7757\n",
      "Epoch 47/100\n",
      "13734/13734 [==============================] - 0s 33us/step - loss: 0.5513 - acc: 0.7720 - val_loss: 0.5950 - val_acc: 0.7800\n",
      "Epoch 48/100\n",
      "13734/13734 [==============================] - 0s 34us/step - loss: 0.5469 - acc: 0.7749 - val_loss: 0.5939 - val_acc: 0.7839\n",
      "Epoch 49/100\n",
      "13734/13734 [==============================] - 0s 34us/step - loss: 0.5581 - acc: 0.7744 - val_loss: 0.5951 - val_acc: 0.7787\n",
      "Epoch 50/100\n",
      "13734/13734 [==============================] - 0s 34us/step - loss: 0.5508 - acc: 0.7754 - val_loss: 0.6176 - val_acc: 0.7685\n",
      "Epoch 51/100\n",
      "13734/13734 [==============================] - 0s 35us/step - loss: 0.5561 - acc: 0.7734 - val_loss: 0.6086 - val_acc: 0.7809\n",
      "Epoch 52/100\n",
      "13734/13734 [==============================] - 0s 34us/step - loss: 0.5563 - acc: 0.7748 - val_loss: 0.6069 - val_acc: 0.7747\n",
      "Epoch 53/100\n",
      "13734/13734 [==============================] - 0s 33us/step - loss: 0.5536 - acc: 0.7720 - val_loss: 0.5951 - val_acc: 0.7678\n",
      "Epoch 54/100\n",
      "13734/13734 [==============================] - 0s 32us/step - loss: 0.5561 - acc: 0.7742 - val_loss: 0.5731 - val_acc: 0.7809\n",
      "Epoch 55/100\n",
      "13734/13734 [==============================] - 1s 40us/step - loss: 0.5530 - acc: 0.7704 - val_loss: 0.5974 - val_acc: 0.7767\n",
      "Epoch 56/100\n",
      "13734/13734 [==============================] - 1s 37us/step - loss: 0.5504 - acc: 0.7770 - val_loss: 0.6044 - val_acc: 0.7744\n",
      "Epoch 57/100\n",
      "13734/13734 [==============================] - 0s 35us/step - loss: 0.5450 - acc: 0.7746 - val_loss: 0.5882 - val_acc: 0.7773\n",
      "Epoch 58/100\n",
      "13734/13734 [==============================] - 1s 47us/step - loss: 0.5550 - acc: 0.7733 - val_loss: 0.5966 - val_acc: 0.7721\n",
      "Epoch 59/100\n"
     ]
    },
    {
     "name": "stdout",
     "output_type": "stream",
     "text": [
      "13734/13734 [==============================] - 1s 42us/step - loss: 0.5525 - acc: 0.7704 - val_loss: 0.6033 - val_acc: 0.7747\n",
      "Epoch 60/100\n",
      "13734/13734 [==============================] - 1s 42us/step - loss: 0.5454 - acc: 0.7746 - val_loss: 0.5981 - val_acc: 0.7688\n",
      "Epoch 61/100\n",
      "13734/13734 [==============================] - 1s 40us/step - loss: 0.5483 - acc: 0.7723 - val_loss: 0.5993 - val_acc: 0.7731\n",
      "Epoch 62/100\n",
      "13734/13734 [==============================] - 1s 38us/step - loss: 0.5501 - acc: 0.7733 - val_loss: 0.6371 - val_acc: 0.7652\n",
      "Epoch 63/100\n",
      "13734/13734 [==============================] - 0s 35us/step - loss: 0.5556 - acc: 0.7729 - val_loss: 0.5775 - val_acc: 0.7711\n",
      "Epoch 64/100\n",
      "13734/13734 [==============================] - 1s 50us/step - loss: 0.5500 - acc: 0.7729 - val_loss: 0.6286 - val_acc: 0.7649\n",
      "Epoch 65/100\n",
      "13734/13734 [==============================] - 1s 50us/step - loss: 0.5483 - acc: 0.7715 - val_loss: 0.6103 - val_acc: 0.7672\n",
      "Epoch 66/100\n",
      "13734/13734 [==============================] - 1s 57us/step - loss: 0.5597 - acc: 0.7703 - val_loss: 0.5910 - val_acc: 0.7688\n",
      "Epoch 67/100\n",
      "13734/13734 [==============================] - 1s 53us/step - loss: 0.5472 - acc: 0.7747 - val_loss: 0.5820 - val_acc: 0.7728\n",
      "Epoch 68/100\n",
      "13734/13734 [==============================] - 0s 27us/step - loss: 0.5478 - acc: 0.7693 - val_loss: 0.5974 - val_acc: 0.7708\n",
      "Epoch 69/100\n",
      "13734/13734 [==============================] - 0s 29us/step - loss: 0.5520 - acc: 0.7716 - val_loss: 0.5889 - val_acc: 0.7787\n",
      "Epoch 70/100\n",
      "13734/13734 [==============================] - 0s 31us/step - loss: 0.5516 - acc: 0.7735 - val_loss: 0.6026 - val_acc: 0.7678\n",
      "Epoch 71/100\n",
      "13734/13734 [==============================] - 0s 30us/step - loss: 0.5515 - acc: 0.7730 - val_loss: 0.5946 - val_acc: 0.7678\n",
      "Epoch 72/100\n",
      "13734/13734 [==============================] - 0s 29us/step - loss: 0.5503 - acc: 0.7706 - val_loss: 0.6100 - val_acc: 0.7652\n",
      "Epoch 73/100\n",
      "13734/13734 [==============================] - 0s 28us/step - loss: 0.5546 - acc: 0.7704 - val_loss: 0.5849 - val_acc: 0.7678\n",
      "Epoch 74/100\n",
      "13734/13734 [==============================] - 0s 29us/step - loss: 0.5577 - acc: 0.7696 - val_loss: 0.6595 - val_acc: 0.7636\n",
      "Epoch 75/100\n",
      "13734/13734 [==============================] - 0s 30us/step - loss: 0.5586 - acc: 0.7670 - val_loss: 0.5933 - val_acc: 0.7714\n",
      "Epoch 76/100\n",
      "13734/13734 [==============================] - 0s 30us/step - loss: 0.5529 - acc: 0.7687 - val_loss: 0.6279 - val_acc: 0.7659\n",
      "Epoch 77/100\n",
      "13734/13734 [==============================] - 0s 27us/step - loss: 0.5611 - acc: 0.7683 - val_loss: 0.5861 - val_acc: 0.7770\n",
      "Epoch 78/100\n",
      "13734/13734 [==============================] - 0s 34us/step - loss: 0.5532 - acc: 0.7715 - val_loss: 0.5846 - val_acc: 0.7718\n",
      "Epoch 79/100\n",
      "13734/13734 [==============================] - 0s 29us/step - loss: 0.5463 - acc: 0.7734 - val_loss: 0.6284 - val_acc: 0.7659\n",
      "Epoch 80/100\n",
      "13734/13734 [==============================] - 0s 29us/step - loss: 0.5559 - acc: 0.7712 - val_loss: 0.5797 - val_acc: 0.7734\n",
      "Epoch 81/100\n",
      "13734/13734 [==============================] - 0s 36us/step - loss: 0.5515 - acc: 0.7722 - val_loss: 0.5970 - val_acc: 0.7665\n",
      "Epoch 82/100\n",
      "13734/13734 [==============================] - 1s 53us/step - loss: 0.5561 - acc: 0.7683 - val_loss: 0.5908 - val_acc: 0.7705\n",
      "Epoch 83/100\n",
      "13734/13734 [==============================] - 1s 62us/step - loss: 0.5568 - acc: 0.7685 - val_loss: 0.6044 - val_acc: 0.7662\n",
      "Epoch 84/100\n",
      "13734/13734 [==============================] - 1s 45us/step - loss: 0.5535 - acc: 0.7693 - val_loss: 0.5913 - val_acc: 0.7731\n",
      "Epoch 85/100\n",
      "13734/13734 [==============================] - 0s 28us/step - loss: 0.5566 - acc: 0.7664 - val_loss: 0.6041 - val_acc: 0.7721\n",
      "Epoch 86/100\n",
      "13734/13734 [==============================] - 0s 36us/step - loss: 0.5600 - acc: 0.7695 - val_loss: 0.6111 - val_acc: 0.7692\n",
      "Epoch 87/100\n",
      "13734/13734 [==============================] - 0s 23us/step - loss: 0.5554 - acc: 0.7666 - val_loss: 0.6385 - val_acc: 0.7652\n",
      "Epoch 88/100\n",
      "13734/13734 [==============================] - 1s 40us/step - loss: 0.5547 - acc: 0.7718 - val_loss: 0.6302 - val_acc: 0.7669\n",
      "Epoch 89/100\n",
      "13734/13734 [==============================] - 0s 31us/step - loss: 0.5567 - acc: 0.7681 - val_loss: 0.6173 - val_acc: 0.7665\n",
      "Epoch 90/100\n",
      "13734/13734 [==============================] - 0s 34us/step - loss: 0.5589 - acc: 0.7672 - val_loss: 0.6506 - val_acc: 0.7574\n",
      "Epoch 91/100\n",
      "13734/13734 [==============================] - 0s 31us/step - loss: 0.5581 - acc: 0.7663 - val_loss: 0.6130 - val_acc: 0.7672\n",
      "Epoch 92/100\n",
      "13734/13734 [==============================] - 0s 31us/step - loss: 0.5595 - acc: 0.7657 - val_loss: 0.5964 - val_acc: 0.7695\n",
      "Epoch 93/100\n",
      "13734/13734 [==============================] - 0s 26us/step - loss: 0.5636 - acc: 0.7635 - val_loss: 0.6107 - val_acc: 0.7669\n",
      "Epoch 94/100\n",
      "13734/13734 [==============================] - 0s 24us/step - loss: 0.5525 - acc: 0.7646 - val_loss: 0.6652 - val_acc: 0.7561\n",
      "Epoch 95/100\n",
      "13734/13734 [==============================] - 1s 39us/step - loss: 0.5556 - acc: 0.7630 - val_loss: 0.6070 - val_acc: 0.7672\n",
      "Epoch 96/100\n",
      "13734/13734 [==============================] - 1s 42us/step - loss: 0.5577 - acc: 0.7656 - val_loss: 0.6052 - val_acc: 0.7665\n",
      "Epoch 97/100\n",
      "13734/13734 [==============================] - 0s 28us/step - loss: 0.5622 - acc: 0.7628 - val_loss: 0.6245 - val_acc: 0.7682\n",
      "Epoch 98/100\n",
      "13734/13734 [==============================] - 0s 27us/step - loss: 0.5578 - acc: 0.7651 - val_loss: 0.6076 - val_acc: 0.7734\n",
      "Epoch 99/100\n",
      "13734/13734 [==============================] - 0s 27us/step - loss: 0.5568 - acc: 0.7633 - val_loss: 0.5967 - val_acc: 0.7728\n",
      "Epoch 100/100\n",
      "13734/13734 [==============================] - 0s 24us/step - loss: 0.5571 - acc: 0.7642 - val_loss: 0.6584 - val_acc: 0.7538\n"
     ]
    }
   ],
   "source": [
    "history = model.fit(trainScaled, yTrain, validation_split=.1, epochs=100, batch_size=64)"
   ]
  },
  {
   "cell_type": "markdown",
   "metadata": {},
   "source": [
    "This will be used to visualize our training data's accuracy over time as the model learns, to try and pin down an epoch where it plateaus or starts overfitting."
   ]
  },
  {
   "cell_type": "code",
   "execution_count": 80,
   "metadata": {},
   "outputs": [
    {
     "data": {
      "image/png": "[encoded data removed]",
      "text/plain": [
       "<Figure size 432x288 with 1 Axes>"
      ]
     },
     "metadata": {
      "needs_background": "light"
     },
     "output_type": "display_data"
    }
   ],
   "source": [
    "plt.plot(history.history['acc'])\n",
    "plt.plot(history.history['val_acc'])\n",
    "plt.title('Model Accuracy vs Epoch')\n",
    "plt.ylabel('Accuracy')\n",
    "plt.xlabel('Epoch')\n",
    "plt.legend(['train', 'test'], loc='upper right')\n",
    "plt.show()"
   ]
  },
  {
   "cell_type": "code",
   "execution_count": 81,
   "metadata": {},
   "outputs": [
    {
     "data": {
      "image/png": "[encoded data removed]",
      "text/plain": [
       "<Figure size 432x288 with 1 Axes>"
      ]
     },
     "metadata": {
      "needs_background": "light"
     },
     "output_type": "display_data"
    }
   ],
   "source": [
    "plt.plot(history.history['loss'])\n",
    "plt.plot(history.history['val_loss'])\n",
    "plt.title('Model Loss vs Epoch')\n",
    "plt.ylabel('Loss')\n",
    "plt.xlabel('Epoch')\n",
    "plt.legend(['train', 'test'], loc='upper right')\n",
    "plt.show()"
   ]
  },
  {
   "cell_type": "code",
   "execution_count": 82,
   "metadata": {},
   "outputs": [
    {
     "name": "stdout",
     "output_type": "stream",
     "text": [
      "5088/5088 [==============================] - 0s 35us/step\n"
     ]
    },
    {
     "data": {
      "text/plain": [
       "[0.6103921583238637, 0.754127358490566]"
      ]
     },
     "execution_count": 82,
     "metadata": {},
     "output_type": "execute_result"
    }
   ],
   "source": [
    "model.evaluate(testScaled, yTest)\n"
   ]
  },
  {
   "cell_type": "code",
   "execution_count": null,
   "metadata": {},
   "outputs": [],
   "source": []
  }
 ],
 "metadata": {
  "kernelspec": {
   "display_name": "Python 3",
   "language": "python",
   "name": "python3"
  },
  "language_info": {
   "codemirror_mode": {
    "name": "ipython",
    "version": 3
   },
   "file_extension": ".py",
   "mimetype": "text/x-python",
   "name": "python",
   "nbconvert_exporter": "python",
   "pygments_lexer": "ipython3",
   "version": "3.6.6"
  }
 },
 "nbformat": 4,
 "nbformat_minor": 2
}
