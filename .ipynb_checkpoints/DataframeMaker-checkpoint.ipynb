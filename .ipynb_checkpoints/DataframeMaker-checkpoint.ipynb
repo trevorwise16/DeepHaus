{
 "cells": [
  {
   "cell_type": "code",
   "execution_count": null,
   "metadata": {},
   "outputs": [],
   "source": [
    "import numpy as np\n",
    "import pandas as pd\n",
    "import keras as ks\n",
    "import spotipy\n",
    "from spotipy.oauth2 import SpotifyClientCredentials"
   ]
  },
  {
   "cell_type": "code",
   "execution_count": null,
   "metadata": {},
   "outputs": [],
   "source": [
    "##Reference Code\n",
    "# louis = sp.search(q='Louis the Child', type='artist')\n",
    "# louis = louis['artists']['items'][0]\n",
    "# RL = sp.search(q='RL Grime', type='artist')\n",
    "# RL = RL['artists']['items'][0]\n",
    "# print(louis['genres'])\n",
    "# print(RL['genres'])\n",
    "\n",
    "# artist = sp.search(q='Louis the Child', limit=50, market='US', offset=0, type='track')\n",
    "\n",
    "# tracks = artist['tracks']\n",
    "# items = tracks['items']\n",
    "# ids = [item['id'] for item in items]\n",
    "# feats = sp.audio_features(ids)\n",
    "# print(type(feats[0]))\n",
    "# track = items[0]['uri']\n",
    "# analysis = sp.audio_analysis(track)\n",
    "# features = sp.audio_features(track)\n",
    "# print(type(analysis), type(features))\n",
    "# print(analysis.keys())\n",
    "# print(features)\n",
    "# for track in items:\n",
    "#   print(track['name'])"
   ]
  },
  {
   "cell_type": "markdown",
   "metadata": {},
   "source": [
    "# Using Spotify API Python wrapper to look at data analysis"
   ]
  },
  {
   "cell_type": "markdown",
   "metadata": {},
   "source": [
    "### Initialize spotipy object with client credentials"
   ]
  },
  {
   "cell_type": "code",
   "execution_count": null,
   "metadata": {},
   "outputs": [],
   "source": [
    "tracks = pd.DataFrame()\n",
    "sp = spotipy.Spotify(client_credentials_manager=\\\n",
    "                     SpotifyClientCredentials(client_id='17e5b5704b914080a62aef78309e09a3', \\\n",
    "                                              client_secret='171d0b70bcd145dabf1d697233541a6d'))"
   ]
  },
  {
   "cell_type": "markdown",
   "metadata": {},
   "source": [
    "This section will try and pull as much EDM data I can from Spotify to load into our dataframe. "
   ]
  },
  {
   "cell_type": "code",
   "execution_count": null,
   "metadata": {},
   "outputs": [],
   "source": [
    "def show_recommendations_for_artist(artist):\n",
    "    #returns a list of recommended artists based on a given artist\n",
    "    artists = []\n",
    "    results = sp.recommendations(seed_artists = [artist['id']])\n",
    "    for track in results['tracks']:\n",
    "        artists.append(track['artists'][0]['name'])\n",
    "    return artists"
   ]
  },
  {
   "cell_type": "markdown",
   "metadata": {},
   "source": [
    "In these next two cells I'm creating a sample list of DJs, then using Spotify's recommendation service to generate a much bigger list, as long as the artist is associated with the 'edm' genre."
   ]
  },
  {
   "cell_type": "code",
   "execution_count": null,
   "metadata": {},
   "outputs": [],
   "source": [
    "djs = ['Calvin Harris', 'Diplo', 'Louis the Child', \\\n",
    "       'RL Grime', 'Alison Wonderland', 'Odesza', 'Avicii', \\\n",
    "       'Zedd', 'Tiesto', 'Martin Garrix', 'Skrillex', 'Steve Aoki', \\\n",
    "       'Marshmello', 'Porter Robinson', 'The Chainsmokers', 'Kygo', \\\n",
    "       'Major Lazer', 'DJ Snake']\n",
    "djset = set(djs)\n",
    "artists = []\n",
    "for dj in djs:\n",
    "        artists.append(sp.search(q=dj, type='artist')['artists']['items'][0])\n"
   ]
  },
  {
   "cell_type": "code",
   "execution_count": null,
   "metadata": {},
   "outputs": [],
   "source": [
    "print(djs)"
   ]
  },
  {
   "cell_type": "code",
   "execution_count": null,
   "metadata": {
    "scrolled": false
   },
   "outputs": [],
   "source": [
    "for a in artists:\n",
    "        recs = show_recommendations_for_artist(a)\n",
    "        for rec in recs:\n",
    "            if rec not in djset and 'edm' in sp.search(q=rec, type='artist')['artists']['items'][0]['genres']:\n",
    "                djs.append(rec)\n",
    "                djset.add(rec)"
   ]
  },
  {
   "cell_type": "markdown",
   "metadata": {},
   "source": [
    "## Now we have a good list of DJs, let's get them into a dataframe"
   ]
  },
  {
   "cell_type": "markdown",
   "metadata": {},
   "source": [
    "Now, I use Spotify's API to generate a set of features for each song, and storing the feature representation of each song in a 2D list."
   ]
  },
  {
   "cell_type": "code",
   "execution_count": null,
   "metadata": {},
   "outputs": [],
   "source": [
    "data = []\n",
    "for dj in djs:\n",
    "    items = sp.search(q=dj, limit=50, offset=0, market='US', type='track')['tracks']['items']\n",
    "    ids = [item['id'] for item in items]\n",
    "    if ids:\n",
    "        ft = [np.array(list(item.values())[:11]) for item in sp.audio_features(ids) if item is not None]\n",
    "        data += ft"
   ]
  },
  {
   "cell_type": "markdown",
   "metadata": {},
   "source": [
    "Pandas conversion and saving results into a CSV for later use"
   ]
  },
  {
   "cell_type": "code",
   "execution_count": null,
   "metadata": {},
   "outputs": [],
   "source": [
    "npdata = np.array(data)\n",
    "df = pd.DataFrame(npdata)\n",
    "df.to_csv('data.csv', index=False)"
   ]
  },
  {
   "cell_type": "markdown",
   "metadata": {},
   "source": [
    "# Now we need to get a good set of data that represents non-edm songs\n"
   ]
  },
  {
   "cell_type": "markdown",
   "metadata": {},
   "source": [
    "I'm going to use the exact same process from above, however this time I'll build a list based on artists that are NOT associated with 'edm'."
   ]
  },
  {
   "cell_type": "code",
   "execution_count": null,
   "metadata": {},
   "outputs": [],
   "source": [
    "nondjs = ['Beyonce', 'The Shins', 'The Who', 'Zac Brown Band', \\\n",
    "           'George Harrison', 'Kendrick Lamar', 'Chance the Rapper', \\\n",
    "           'Miley Cyrus', 'Snoop Dogg', 'Dr. Dre', 'Eminem', 'Bob Marley', \\\n",
    "           'Duke Ellington', 'Miles Davis', 'The Beach Boys', 'The Growlers', 'Five Seconds of Summer']\n",
    "nondjset = set(nondjs)\n",
    "artists2 = []\n",
    "for nondj in nondjs:\n",
    "    artists2.append(sp.search(q=nondj, type='artist')['artists']['items'][0])"
   ]
  },
  {
   "cell_type": "code",
   "execution_count": null,
   "metadata": {},
   "outputs": [],
   "source": [
    "for a in artists2:\n",
    "        recs = show_recommendations_for_artist(a)\n",
    "        for rec in recs:\n",
    "            try:\n",
    "                if rec not in nondjset and 'edm' not in sp.search(q=rec, type='artist')['artists']['items'][0]['genres']:\n",
    "                    nondjs.append(rec)\n",
    "                    nondjset.add(rec)\n",
    "            except:\n",
    "                print('Nothing here')"
   ]
  },
  {
   "cell_type": "code",
   "execution_count": null,
   "metadata": {},
   "outputs": [],
   "source": [
    "data2 = []\n",
    "for nondj in nondjs:\n",
    "    items = sp.search(q=nondj, limit=50, offset=0, market='US', type='track')['tracks']['items']\n",
    "    ids = [item['id'] for item in items]\n",
    "    if ids:\n",
    "        ft = [np.array(list(item.values())[:11]) for item in sp.audio_features(ids) if item is not None]\n",
    "        data2 += ft"
   ]
  },
  {
   "cell_type": "code",
   "execution_count": null,
   "metadata": {},
   "outputs": [],
   "source": [
    "npdata2 = np.array(data2)\n",
    "df2 = pd.DataFrame(npdata2)\n",
    "df2.to_csv('data2.csv', index=False)"
   ]
  },
  {
   "cell_type": "markdown",
   "metadata": {},
   "source": [
    "Now we have a CSV file written for both EDM and Non-EDM sample sets. In the file 'Model.ipynb' I process these datasets and use them to classify songs."
   ]
  }
 ],
 "metadata": {
  "kernelspec": {
   "display_name": "Python 3",
   "language": "python",
   "name": "python3"
  },
  "language_info": {
   "codemirror_mode": {
    "name": "ipython",
    "version": 3
   },
   "file_extension": ".py",
   "mimetype": "text/x-python",
   "name": "python",
   "nbconvert_exporter": "python",
   "pygments_lexer": "ipython3",
   "version": "3.6.6"
  }
 },
 "nbformat": 4,
 "nbformat_minor": 2
}
